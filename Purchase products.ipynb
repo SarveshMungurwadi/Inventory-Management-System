{
 "cells": [
  {
   "cell_type": "markdown",
   "id": "8c328f18",
   "metadata": {},
   "source": [
    "# Importing json"
   ]
  },
  {
   "cell_type": "code",
   "execution_count": null,
   "id": "ea0f665f",
   "metadata": {},
   "outputs": [],
   "source": [
    "import json\n",
    "import datetime"
   ]
  },
  {
   "cell_type": "markdown",
   "id": "10799299",
   "metadata": {},
   "source": [
    "# Reading from Records.json and Sales.json"
   ]
  },
  {
   "cell_type": "code",
   "execution_count": null,
   "id": "001efdcf",
   "metadata": {},
   "outputs": [],
   "source": [
    "fd=open(\"Records.json\",\"r\")\n",
    "r=fd.read()\n",
    "fd.close()\n",
    "\n",
    "pur_record=json.loads(r)\n",
    "pur_record\n",
    "\n",
    "fd=open(\"Sales.json\",\"r\")\n",
    "f=fd.read()\n",
    "fd.close()\n",
    "\n",
    "sale=json.loads(f)\n"
   ]
  },
  {
   "cell_type": "markdown",
   "id": "711ad54e",
   "metadata": {},
   "source": [
    "# Search the product by category\n"
   ]
  },
  {
   "cell_type": "code",
   "execution_count": null,
   "id": "31b01021",
   "metadata": {},
   "outputs": [],
   "source": [
    "categories = []\n",
    "print(\"******************Product Categories*******************\")\n",
    "for i in pur_record:\n",
    "    categories.append(pur_record[i]['category'])\n",
    "    \n",
    "for i in set(categories):\n",
    "    \n",
    "    print(\"                    \",i,\"                     \")\n",
    "user = input(\"Enter The Category Of The Product Same As Mention Above You Want:- \")\n",
    "flag=0\n",
    "for i in pur_record:\n",
    "    if pur_record[i]['category'] == user:\n",
    "        flag+=1\n",
    "        print(\"\")\n",
    "        print(\"Product id\",i)\n",
    "        print(\"Product:\",pur_record[i][\"name\"])\n",
    "        print(\"Price:\",pur_record[i][\"price\"])\n",
    "        print(\"Quantity:\",pur_record[i][\"quantity\"])\n",
    "        print(\"Status:\",pur_record[i][\"status\"])\n",
    "if(flag==0):\n",
    "    print(\"Product of \",user,\" category is not available\")"
   ]
  },
  {
   "cell_type": "markdown",
   "id": "196a0265",
   "metadata": {},
   "source": [
    "# Purchase the product"
   ]
  },
  {
   "cell_type": "code",
   "execution_count": null,
   "id": "d490050e",
   "metadata": {
    "scrolled": true
   },
   "outputs": [],
   "source": [
    "prod_id=input(\"Enter the product id \")\n",
    "prod_qn=int(input(\"Enter the quantity of product \"))\n",
    "\n",
    "\n",
    "if(prod_qn>pur_record[prod_id][\"quantity\"]):\n",
    "    print(\"Number of Product quantity is not avialable\")\n",
    "else:\n",
    "    date = datetime.datetime.now()\n",
    "    print(\"---------------------------------------------\")\n",
    "    print(\"               PRODUCT BILL                  \")\n",
    "    print(\"---------------------------------------------\")\n",
    "    print(\"             Product: \",pur_record[prod_id][\"name\"])\n",
    "    print(\"             Price: \",pur_record[prod_id][\"price\"])\n",
    "    print(\"             Quantity: \",prod_qn)\n",
    "    print(\"             Billing Amount: \",pur_record[prod_id][\"price\"]*prod_qn)\n",
    "    print(\"             Purchase Time:\",date)\n",
    "\n",
    "\n",
    "\n",
    "if(pur_record[prod_id][\"quantity\"]>0):\n",
    "   pur_record[prod_id][\"quantity\"]=pur_record[prod_id][\"quantity\"]-prod_qn\n",
    "\n",
    "\n",
    "#Updated the status after purchase if product quantity becomes 0\n",
    "if(pur_record[prod_id][\"quantity\"]==0):\n",
    "    pur_record[prod_id][\"status\"]=\"Not Available\"\n",
    "\n",
    "    \n"
   ]
  },
  {
   "cell_type": "markdown",
   "id": "fcae9f7b",
   "metadata": {},
   "source": [
    "# Update the inventory after purchase"
   ]
  },
  {
   "cell_type": "code",
   "execution_count": null,
   "id": "9f05fd30",
   "metadata": {},
   "outputs": [],
   "source": [
    "js=json.dumps(pur_record)\n",
    "fd=open(\"Records.json\",\"w\")\n",
    "fd.write(js)\n",
    "fd.close()"
   ]
  },
  {
   "cell_type": "markdown",
   "id": "cdd3857a",
   "metadata": {},
   "source": [
    "# Sales.json"
   ]
  },
  {
   "cell_type": "code",
   "execution_count": null,
   "id": "5571771b",
   "metadata": {},
   "outputs": [],
   "source": [
    "sale[int(len(sale)+1)]={\"category\": pur_record[prod_id][\"category\"], \"Product\": pur_record[prod_id][\"name\"], \"price\":pur_record[prod_id][\"price\"], \"quantity\": prod_qn, \"Billing Amount\":pur_record[prod_id][\"price\"]*prod_qn}\n",
    "sale=json.dumps(sale)\n",
    "fd=open(\"Sales.json\",\"w\")\n",
    "fd.write(sale)\n",
    "fd.close()\n",
    "sale=sale=json.loads(f)"
   ]
  },
  {
   "cell_type": "code",
   "execution_count": null,
   "id": "f0bcc0fe",
   "metadata": {},
   "outputs": [],
   "source": []
  },
  {
   "cell_type": "code",
   "execution_count": null,
   "id": "babb9580",
   "metadata": {},
   "outputs": [],
   "source": []
  }
 ],
 "metadata": {
  "kernelspec": {
   "display_name": "Python 3",
   "language": "python",
   "name": "python3"
  },
  "language_info": {
   "codemirror_mode": {
    "name": "ipython",
    "version": 3
   },
   "file_extension": ".py",
   "mimetype": "text/x-python",
   "name": "python",
   "nbconvert_exporter": "python",
   "pygments_lexer": "ipython3",
   "version": "3.8.8"
  }
 },
 "nbformat": 4,
 "nbformat_minor": 5
}
