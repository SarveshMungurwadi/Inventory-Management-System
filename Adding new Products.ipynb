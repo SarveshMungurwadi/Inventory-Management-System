{
 "cells": [
  {
   "cell_type": "markdown",
   "id": "fc323d43",
   "metadata": {},
   "source": [
    "# Importing json"
   ]
  },
  {
   "cell_type": "code",
   "execution_count": null,
   "id": "2329db22",
   "metadata": {},
   "outputs": [],
   "source": [
    "import json"
   ]
  },
  {
   "cell_type": "markdown",
   "id": "ed2fb714",
   "metadata": {},
   "source": [
    "# Read Data from Records.json"
   ]
  },
  {
   "cell_type": "code",
   "execution_count": null,
   "id": "a4abb826",
   "metadata": {},
   "outputs": [],
   "source": [
    "fd=open(\"Records.json\",'r')\n",
    "r=fd.read()\n",
    "fd.close()\n",
    "record = json.loads(r)\n",
    "\n",
    "record"
   ]
  },
  {
   "cell_type": "markdown",
   "id": "1b52c0c0",
   "metadata": {},
   "source": [
    "# To check the status of product"
   ]
  },
  {
   "cell_type": "code",
   "execution_count": null,
   "id": "c6545dd8",
   "metadata": {},
   "outputs": [],
   "source": [
    "prod_id=input(\"Enter the product id to check the status of product \")\n",
    "if(record[prod_id][\"status\"]==\"Available\"):\n",
    "    print(record[prod_id][\"name\"],\"is available\")\n",
    "else:\n",
    "     print(record[prod_id][\"name\"],\"is not available\")\n",
    "    "
   ]
  },
  {
   "cell_type": "markdown",
   "id": "dbd27839",
   "metadata": {},
   "source": [
    "# To add new products"
   ]
  },
  {
   "cell_type": "code",
   "execution_count": null,
   "id": "0e6500bd",
   "metadata": {},
   "outputs": [],
   "source": [
    "prod_id=input(\"Enter the product id\")\n",
    "category=input(\"Enter the product category\")\n",
    "name=input(\"Enter the name of product\")\n",
    "pr=int(input(\"Enter the price of product\"))\n",
    "qn=int(input(\"Enter the quantity of product\"))\n",
    "\n",
    "{ prod_id: {'category': category,\n",
    "  'name': name,\n",
    "  'price': pr,\n",
    "  'quantity': qn,\n",
    "  'status': 'Available'} }\n",
    "\n",
    "record[prod_id]={'category': category,\n",
    "  'name': name,\n",
    "  'price': pr,\n",
    "  'quantity': qn,\n",
    "  'status': 'Available'}\n",
    "\n",
    "js=json.dumps(record)\n",
    "fd=open(\"Records.json\",\"w\")\n",
    "fd.write(js)\n",
    "fd.close()\n",
    "\n",
    "\n"
   ]
  },
  {
   "cell_type": "markdown",
   "id": "77ce3ece",
   "metadata": {},
   "source": [
    "# Adding quantity to the existing product"
   ]
  },
  {
   "cell_type": "code",
   "execution_count": null,
   "id": "060dc255",
   "metadata": {},
   "outputs": [],
   "source": [
    "prod_id=input(\"Enter the product id\")\n",
    "qn=int(input(\"Enter the quantity \"))\n",
    "\n",
    "record[prod_id][\"quantity\"]=record[prod_id][\"quantity\"]+qn\n",
    "js=json.dumps(record)\n",
    "fd=open(\"Records.json\",\"w\")\n",
    "fd.write(js)\n",
    "fd.close()"
   ]
  },
  {
   "cell_type": "code",
   "execution_count": null,
   "id": "1652561d",
   "metadata": {},
   "outputs": [],
   "source": []
  }
 ],
 "metadata": {
  "kernelspec": {
   "display_name": "Python 3",
   "language": "python",
   "name": "python3"
  },
  "language_info": {
   "codemirror_mode": {
    "name": "ipython",
    "version": 3
   },
   "file_extension": ".py",
   "mimetype": "text/x-python",
   "name": "python",
   "nbconvert_exporter": "python",
   "pygments_lexer": "ipython3",
   "version": "3.8.8"
  }
 },
 "nbformat": 4,
 "nbformat_minor": 5
}
